{
 "cells": [
  {
   "cell_type": "code",
   "execution_count": null,
   "id": "87f0745b-84bf-40a0-9d3f-c5da6b3126ed",
   "metadata": {},
   "outputs": [],
   "source": [
    "from transformers import pipeline"
   ]
  },
  {
   "cell_type": "code",
   "execution_count": 6,
   "id": "e09ab4c9-be0e-4a46-bd23-7747b80a3edf",
   "metadata": {},
   "outputs": [
    {
     "name": "stderr",
     "output_type": "stream",
     "text": [
      "Device set to use cpu\n"
     ]
    },
    {
     "name": "stdout",
     "output_type": "stream",
     "text": [
      "Predicted Topic: Health/Medical (Confidence: 0.98)\n"
     ]
    }
   ],
   "source": [
    "# ✅ Load your trained or pre-trained model\n",
    "classifier = pipeline(\n",
    "    \"text-classification\",\n",
    "    model=\"./news_model\",      # or \"textattack/distilbert-base-uncased-ag-news\"\n",
    "    tokenizer=\"./news_model\"   # same for tokenizer\n",
    ")\n",
    "\n",
    "# ✅ Test the classifier\n",
    "test_text = \"Microsoft announces new AI features in Windows\"\n",
    "result = classifier(test_text)\n",
    "\n",
    "# ✅ Extract numeric label (e.g., 'LABEL_3' → 3)\n",
    "predicted_label_num = int(result[0]['label'].split('_')[-1])\n",
    "\n",
    "# ✅ Map predicted label to category\n",
    "label_map = {\n",
    "    0: \"Business\",\n",
    "    1: \"Entertainment\",\n",
    "    2: \"Science/Technology\",\n",
    "    3: \"Health/Medical\"\n",
    "}\n",
    "\n",
    "print(f\"Predicted Topic: {label_map[predicted_label_num]} (Confidence: {result[0]['score']:.2f})\")"
   ]
  },
  {
   "cell_type": "code",
   "execution_count": null,
   "id": "d715b441-e082-42d9-911f-8d3e614857fb",
   "metadata": {},
   "outputs": [],
   "source": []
  }
 ],
 "metadata": {
  "kernelspec": {
   "display_name": "Python 3 (ipykernel)",
   "language": "python",
   "name": "python3"
  },
  "language_info": {
   "codemirror_mode": {
    "name": "ipython",
    "version": 3
   },
   "file_extension": ".py",
   "mimetype": "text/x-python",
   "name": "python",
   "nbconvert_exporter": "python",
   "pygments_lexer": "ipython3",
   "version": "3.13.5"
  }
 },
 "nbformat": 4,
 "nbformat_minor": 5
}
