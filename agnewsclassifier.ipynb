{
 "cells": [
  {
   "cell_type": "code",
   "execution_count": 1,
   "id": "bf9bd77d-62a4-4659-81df-4294c4247806",
   "metadata": {},
   "outputs": [],
   "source": [
    "import pandas as pd"
   ]
  },
  {
   "cell_type": "code",
   "execution_count": 2,
   "id": "635d7c08-d5ed-4793-854b-ae483a96d8bc",
   "metadata": {},
   "outputs": [
    {
     "data": {
      "text/html": [
       "<div>\n",
       "<style scoped>\n",
       "    .dataframe tbody tr th:only-of-type {\n",
       "        vertical-align: middle;\n",
       "    }\n",
       "\n",
       "    .dataframe tbody tr th {\n",
       "        vertical-align: top;\n",
       "    }\n",
       "\n",
       "    .dataframe thead th {\n",
       "        text-align: right;\n",
       "    }\n",
       "</style>\n",
       "<table border=\"1\" class=\"dataframe\">\n",
       "  <thead>\n",
       "    <tr style=\"text-align: right;\">\n",
       "      <th></th>\n",
       "      <th>ID</th>\n",
       "      <th>TITLE</th>\n",
       "      <th>URL</th>\n",
       "      <th>PUBLISHER</th>\n",
       "      <th>CATEGORY</th>\n",
       "      <th>STORY</th>\n",
       "      <th>HOSTNAME</th>\n",
       "      <th>TIMESTAMP</th>\n",
       "    </tr>\n",
       "  </thead>\n",
       "  <tbody>\n",
       "    <tr>\n",
       "      <th>0</th>\n",
       "      <td>1</td>\n",
       "      <td>Fed official says weak data caused by weather,...</td>\n",
       "      <td>http://www.latimes.com/business/money/la-fi-mo...</td>\n",
       "      <td>Los Angeles Times</td>\n",
       "      <td>b</td>\n",
       "      <td>ddUyU0VZz0BRneMioxUPQVP6sIxvM</td>\n",
       "      <td>www.latimes.com</td>\n",
       "      <td>1394470370698</td>\n",
       "    </tr>\n",
       "    <tr>\n",
       "      <th>1</th>\n",
       "      <td>2</td>\n",
       "      <td>Fed's Charles Plosser sees high bar for change...</td>\n",
       "      <td>http://www.livemint.com/Politics/H2EvwJSK2VE6O...</td>\n",
       "      <td>Livemint</td>\n",
       "      <td>b</td>\n",
       "      <td>ddUyU0VZz0BRneMioxUPQVP6sIxvM</td>\n",
       "      <td>www.livemint.com</td>\n",
       "      <td>1394470371207</td>\n",
       "    </tr>\n",
       "    <tr>\n",
       "      <th>2</th>\n",
       "      <td>3</td>\n",
       "      <td>US open: Stocks fall after Fed official hints ...</td>\n",
       "      <td>http://www.ifamagazine.com/news/us-open-stocks...</td>\n",
       "      <td>IFA Magazine</td>\n",
       "      <td>b</td>\n",
       "      <td>ddUyU0VZz0BRneMioxUPQVP6sIxvM</td>\n",
       "      <td>www.ifamagazine.com</td>\n",
       "      <td>1394470371550</td>\n",
       "    </tr>\n",
       "    <tr>\n",
       "      <th>3</th>\n",
       "      <td>4</td>\n",
       "      <td>Fed risks falling 'behind the curve', Charles ...</td>\n",
       "      <td>http://www.ifamagazine.com/news/fed-risks-fall...</td>\n",
       "      <td>IFA Magazine</td>\n",
       "      <td>b</td>\n",
       "      <td>ddUyU0VZz0BRneMioxUPQVP6sIxvM</td>\n",
       "      <td>www.ifamagazine.com</td>\n",
       "      <td>1394470371793</td>\n",
       "    </tr>\n",
       "    <tr>\n",
       "      <th>4</th>\n",
       "      <td>5</td>\n",
       "      <td>Fed's Plosser: Nasty Weather Has Curbed Job Gr...</td>\n",
       "      <td>http://www.moneynews.com/Economy/federal-reser...</td>\n",
       "      <td>Moneynews</td>\n",
       "      <td>b</td>\n",
       "      <td>ddUyU0VZz0BRneMioxUPQVP6sIxvM</td>\n",
       "      <td>www.moneynews.com</td>\n",
       "      <td>1394470372027</td>\n",
       "    </tr>\n",
       "    <tr>\n",
       "      <th>...</th>\n",
       "      <td>...</td>\n",
       "      <td>...</td>\n",
       "      <td>...</td>\n",
       "      <td>...</td>\n",
       "      <td>...</td>\n",
       "      <td>...</td>\n",
       "      <td>...</td>\n",
       "      <td>...</td>\n",
       "    </tr>\n",
       "    <tr>\n",
       "      <th>422414</th>\n",
       "      <td>422933</td>\n",
       "      <td>Surgeons to remove 4-year-old's rib to rebuild...</td>\n",
       "      <td>http://www.cbs3springfield.com/story/26378648/...</td>\n",
       "      <td>WSHM-TV</td>\n",
       "      <td>m</td>\n",
       "      <td>dpcLMoJD69UYMXMxaoEFnWql9YjQM</td>\n",
       "      <td>www.cbs3springfield.com</td>\n",
       "      <td>1409229190251</td>\n",
       "    </tr>\n",
       "    <tr>\n",
       "      <th>422415</th>\n",
       "      <td>422934</td>\n",
       "      <td>Boy to have surgery on esophagus after battery...</td>\n",
       "      <td>http://www.wlwt.com/news/boy-to-have-surgery-o...</td>\n",
       "      <td>WLWT Cincinnati</td>\n",
       "      <td>m</td>\n",
       "      <td>dpcLMoJD69UYMXMxaoEFnWql9YjQM</td>\n",
       "      <td>www.wlwt.com</td>\n",
       "      <td>1409229190508</td>\n",
       "    </tr>\n",
       "    <tr>\n",
       "      <th>422416</th>\n",
       "      <td>422935</td>\n",
       "      <td>Child who swallowed battery to have reconstruc...</td>\n",
       "      <td>http://www.newsnet5.com/news/local-news/child-...</td>\n",
       "      <td>NewsNet5.com</td>\n",
       "      <td>m</td>\n",
       "      <td>dpcLMoJD69UYMXMxaoEFnWql9YjQM</td>\n",
       "      <td>www.newsnet5.com</td>\n",
       "      <td>1409229190771</td>\n",
       "    </tr>\n",
       "    <tr>\n",
       "      <th>422417</th>\n",
       "      <td>422936</td>\n",
       "      <td>Phoenix boy undergoes surgery to repair throat...</td>\n",
       "      <td>http://www.wfsb.com/story/26368078/phoenix-boy...</td>\n",
       "      <td>WFSB</td>\n",
       "      <td>m</td>\n",
       "      <td>dpcLMoJD69UYMXMxaoEFnWql9YjQM</td>\n",
       "      <td>www.wfsb.com</td>\n",
       "      <td>1409229191071</td>\n",
       "    </tr>\n",
       "    <tr>\n",
       "      <th>422418</th>\n",
       "      <td>422937</td>\n",
       "      <td>Phoenix boy undergoes surgery to repair throat...</td>\n",
       "      <td>http://www.cbs3springfield.com/story/26368078/...</td>\n",
       "      <td>WSHM-TV</td>\n",
       "      <td>m</td>\n",
       "      <td>dpcLMoJD69UYMXMxaoEFnWql9YjQM</td>\n",
       "      <td>www.cbs3springfield.com</td>\n",
       "      <td>1409229191565</td>\n",
       "    </tr>\n",
       "  </tbody>\n",
       "</table>\n",
       "<p>422419 rows × 8 columns</p>\n",
       "</div>"
      ],
      "text/plain": [
       "            ID                                              TITLE  \\\n",
       "0            1  Fed official says weak data caused by weather,...   \n",
       "1            2  Fed's Charles Plosser sees high bar for change...   \n",
       "2            3  US open: Stocks fall after Fed official hints ...   \n",
       "3            4  Fed risks falling 'behind the curve', Charles ...   \n",
       "4            5  Fed's Plosser: Nasty Weather Has Curbed Job Gr...   \n",
       "...        ...                                                ...   \n",
       "422414  422933  Surgeons to remove 4-year-old's rib to rebuild...   \n",
       "422415  422934  Boy to have surgery on esophagus after battery...   \n",
       "422416  422935  Child who swallowed battery to have reconstruc...   \n",
       "422417  422936  Phoenix boy undergoes surgery to repair throat...   \n",
       "422418  422937  Phoenix boy undergoes surgery to repair throat...   \n",
       "\n",
       "                                                      URL          PUBLISHER  \\\n",
       "0       http://www.latimes.com/business/money/la-fi-mo...  Los Angeles Times   \n",
       "1       http://www.livemint.com/Politics/H2EvwJSK2VE6O...           Livemint   \n",
       "2       http://www.ifamagazine.com/news/us-open-stocks...       IFA Magazine   \n",
       "3       http://www.ifamagazine.com/news/fed-risks-fall...       IFA Magazine   \n",
       "4       http://www.moneynews.com/Economy/federal-reser...          Moneynews   \n",
       "...                                                   ...                ...   \n",
       "422414  http://www.cbs3springfield.com/story/26378648/...            WSHM-TV   \n",
       "422415  http://www.wlwt.com/news/boy-to-have-surgery-o...    WLWT Cincinnati   \n",
       "422416  http://www.newsnet5.com/news/local-news/child-...       NewsNet5.com   \n",
       "422417  http://www.wfsb.com/story/26368078/phoenix-boy...               WFSB   \n",
       "422418  http://www.cbs3springfield.com/story/26368078/...            WSHM-TV   \n",
       "\n",
       "       CATEGORY                          STORY                 HOSTNAME  \\\n",
       "0             b  ddUyU0VZz0BRneMioxUPQVP6sIxvM          www.latimes.com   \n",
       "1             b  ddUyU0VZz0BRneMioxUPQVP6sIxvM         www.livemint.com   \n",
       "2             b  ddUyU0VZz0BRneMioxUPQVP6sIxvM      www.ifamagazine.com   \n",
       "3             b  ddUyU0VZz0BRneMioxUPQVP6sIxvM      www.ifamagazine.com   \n",
       "4             b  ddUyU0VZz0BRneMioxUPQVP6sIxvM        www.moneynews.com   \n",
       "...         ...                            ...                      ...   \n",
       "422414        m  dpcLMoJD69UYMXMxaoEFnWql9YjQM  www.cbs3springfield.com   \n",
       "422415        m  dpcLMoJD69UYMXMxaoEFnWql9YjQM             www.wlwt.com   \n",
       "422416        m  dpcLMoJD69UYMXMxaoEFnWql9YjQM         www.newsnet5.com   \n",
       "422417        m  dpcLMoJD69UYMXMxaoEFnWql9YjQM             www.wfsb.com   \n",
       "422418        m  dpcLMoJD69UYMXMxaoEFnWql9YjQM  www.cbs3springfield.com   \n",
       "\n",
       "            TIMESTAMP  \n",
       "0       1394470370698  \n",
       "1       1394470371207  \n",
       "2       1394470371550  \n",
       "3       1394470371793  \n",
       "4       1394470372027  \n",
       "...               ...  \n",
       "422414  1409229190251  \n",
       "422415  1409229190508  \n",
       "422416  1409229190771  \n",
       "422417  1409229191071  \n",
       "422418  1409229191565  \n",
       "\n",
       "[422419 rows x 8 columns]"
      ]
     },
     "execution_count": 2,
     "metadata": {},
     "output_type": "execute_result"
    }
   ],
   "source": [
    "df=pd.read_csv(\"uci-news-aggregator.csv\")\n",
    "df"
   ]
  },
  {
   "cell_type": "code",
   "execution_count": 3,
   "id": "5de63340-9b92-4eb6-a529-164dec3b0054",
   "metadata": {},
   "outputs": [],
   "source": [
    "import torch"
   ]
  },
  {
   "cell_type": "code",
   "execution_count": 4,
   "id": "1344ea5c-fc2a-455c-87a9-b54fd6710022",
   "metadata": {},
   "outputs": [],
   "source": [
    "from torch.utils.data import Dataset,DataLoader"
   ]
  },
  {
   "cell_type": "code",
   "execution_count": 5,
   "id": "d6eb021f-1fc3-4827-8136-5662a135473f",
   "metadata": {},
   "outputs": [],
   "source": [
    "from transformers import BertTokenizer, BertForSequenceClassification"
   ]
  },
  {
   "cell_type": "code",
   "execution_count": 6,
   "id": "c480b20a-b96e-4ee5-8c67-04f69b8683a6",
   "metadata": {},
   "outputs": [],
   "source": [
    "import torch.nn as nn"
   ]
  },
  {
   "cell_type": "code",
   "execution_count": 7,
   "id": "82214247-0d90-4412-86bd-6a5a6651ddb0",
   "metadata": {},
   "outputs": [],
   "source": [
    "from torch.optim import AdamW"
   ]
  },
  {
   "cell_type": "code",
   "execution_count": 8,
   "id": "0b22f100-0cc7-407f-8988-0f593bb7666f",
   "metadata": {},
   "outputs": [],
   "source": [
    "from sklearn.metrics import accuracy_score"
   ]
  },
  {
   "cell_type": "code",
   "execution_count": 9,
   "id": "c0f9d83d-fc54-44a6-aa9a-85702e6dc03a",
   "metadata": {},
   "outputs": [
    {
     "name": "stdout",
     "output_type": "stream",
     "text": [
      "   ID                                              TITLE  \\\n",
      "0   1  Fed official says weak data caused by weather,...   \n",
      "1   2  Fed's Charles Plosser sees high bar for change...   \n",
      "2   3  US open: Stocks fall after Fed official hints ...   \n",
      "3   4  Fed risks falling 'behind the curve', Charles ...   \n",
      "4   5  Fed's Plosser: Nasty Weather Has Curbed Job Gr...   \n",
      "\n",
      "                                                 URL          PUBLISHER  \\\n",
      "0  http://www.latimes.com/business/money/la-fi-mo...  Los Angeles Times   \n",
      "1  http://www.livemint.com/Politics/H2EvwJSK2VE6O...           Livemint   \n",
      "2  http://www.ifamagazine.com/news/us-open-stocks...       IFA Magazine   \n",
      "3  http://www.ifamagazine.com/news/fed-risks-fall...       IFA Magazine   \n",
      "4  http://www.moneynews.com/Economy/federal-reser...          Moneynews   \n",
      "\n",
      "  CATEGORY                          STORY             HOSTNAME      TIMESTAMP  \n",
      "0        b  ddUyU0VZz0BRneMioxUPQVP6sIxvM      www.latimes.com  1394470370698  \n",
      "1        b  ddUyU0VZz0BRneMioxUPQVP6sIxvM     www.livemint.com  1394470371207  \n",
      "2        b  ddUyU0VZz0BRneMioxUPQVP6sIxvM  www.ifamagazine.com  1394470371550  \n",
      "3        b  ddUyU0VZz0BRneMioxUPQVP6sIxvM  www.ifamagazine.com  1394470371793  \n",
      "4        b  ddUyU0VZz0BRneMioxUPQVP6sIxvM    www.moneynews.com  1394470372027  \n"
     ]
    }
   ],
   "source": [
    "print(df.head())"
   ]
  },
  {
   "cell_type": "code",
   "execution_count": 10,
   "id": "4b3e31e1-7aee-42e6-a27a-bd178256e58a",
   "metadata": {},
   "outputs": [
    {
     "name": "stdout",
     "output_type": "stream",
     "text": [
      "CATEGORY\n",
      "e    152469\n",
      "b    115967\n",
      "t    108344\n",
      "m     45639\n",
      "Name: count, dtype: int64\n"
     ]
    }
   ],
   "source": [
    "print(df[\"CATEGORY\"].value_counts())"
   ]
  },
  {
   "cell_type": "code",
   "execution_count": 11,
   "id": "cff3dbbb-8b4a-4f00-ab31-e5fda295c8d3",
   "metadata": {},
   "outputs": [],
   "source": [
    "df=df[[\"TITLE\",\"CATEGORY\"]]\n",
    "df=df[df[\"CATEGORY\"].isin([\"b\", \"t\", \"e\", \"m\"])]"
   ]
  },
  {
   "cell_type": "code",
   "execution_count": 12,
   "id": "da595cef-2c40-44d5-814b-9c9a36b78194",
   "metadata": {},
   "outputs": [],
   "source": [
    "df[\"label\"]=df[\"CATEGORY\"].astype(\"category\").cat.codes"
   ]
  },
  {
   "cell_type": "code",
   "execution_count": 13,
   "id": "bfd74d2f-8182-4d8b-974c-0cd8ed7073ed",
   "metadata": {},
   "outputs": [],
   "source": [
    "df[\"text\"]=df[\"TITLE\"]"
   ]
  },
  {
   "cell_type": "code",
   "execution_count": 14,
   "id": "ece89e22-f64a-4feb-b328-580ccd182712",
   "metadata": {},
   "outputs": [],
   "source": [
    "train_df=df.sample(frac=0.8,random_state=42)"
   ]
  },
  {
   "cell_type": "code",
   "execution_count": 15,
   "id": "bca4bfa6-b997-4060-8e58-32513e0c8ee6",
   "metadata": {},
   "outputs": [],
   "source": [
    "test_df=df.drop(train_df.index)"
   ]
  },
  {
   "cell_type": "code",
   "execution_count": 16,
   "id": "5e4acafb-ec51-4620-a751-981a35a7e70f",
   "metadata": {},
   "outputs": [
    {
     "name": "stdout",
     "output_type": "stream",
     "text": [
      "                                                    TITLE CATEGORY  label  \\\n",
      "280241  Only 2 people allowed in the delivery room: Pr...        e      1   \n",
      "96315             A wealth of info, a welter of questions        b      0   \n",
      "280410      Robin Thicke Naming Album After Paula Patton…        e      1   \n",
      "284975  Actress And Civil Rights Activist Ruby Dee Die...        e      1   \n",
      "379072                Feds to review Ga. Medicaid backlog        m      2   \n",
      "\n",
      "                                                     text  \n",
      "280241  Only 2 people allowed in the delivery room: Pr...  \n",
      "96315             A wealth of info, a welter of questions  \n",
      "280410      Robin Thicke Naming Album After Paula Patton…  \n",
      "284975  Actress And Civil Rights Activist Ruby Dee Die...  \n",
      "379072                Feds to review Ga. Medicaid backlog  \n"
     ]
    }
   ],
   "source": [
    "print(train_df.head())"
   ]
  },
  {
   "cell_type": "code",
   "execution_count": 17,
   "id": "e63bf983-e5a8-4fcd-b4d7-92bc4eadf9fd",
   "metadata": {},
   "outputs": [],
   "source": [
    "train_df=train_df.sample(5000,random_state=42)"
   ]
  },
  {
   "cell_type": "code",
   "execution_count": 18,
   "id": "82487f20-1a55-4946-b806-8c5763969360",
   "metadata": {},
   "outputs": [],
   "source": [
    "test_df=test_df.sample(1000,random_state=42)"
   ]
  },
  {
   "cell_type": "code",
   "execution_count": 19,
   "id": "fa7acb40-b1bb-4bab-9c03-20b9dbd77205",
   "metadata": {},
   "outputs": [],
   "source": [
    "tokenizer= BertTokenizer.from_pretrained(\"bert-base-uncased\")"
   ]
  },
  {
   "cell_type": "code",
   "execution_count": 20,
   "id": "a76ad073-ed9a-4bd4-a6c4-3708a4e0225d",
   "metadata": {},
   "outputs": [],
   "source": [
    "class NewsDataset(Dataset):\n",
    "    def __init__(self, texts, labels,tokenizer,max_len=128):\n",
    "          self.texts = texts\n",
    "          self.labels=labels\n",
    "          self.tokenizer=tokenizer\n",
    "          self.max_len=max_len\n",
    "    def __len__(self):\n",
    "          return len(self.texts)\n",
    "    def __getitem__(self,idx):\n",
    "          text=self.texts[idx]\n",
    "          label=self.labels[idx]\n",
    "          encoding= self.tokenizer.encode_plus(\n",
    "                    text,\n",
    "                    add_special_tokens=True,\n",
    "                    max_length=self.max_len,\n",
    "                    return_token_type_ids=False,\n",
    "                    padding=\"max_length\",\n",
    "                    truncation=True,\n",
    "                    return_attention_mask=True,\n",
    "                    return_tensors=\"pt\",\n",
    "          )\n",
    "          return{\"input_ids\":encoding[\"input_ids\"].flatten(),\"attention_mask\":encoding[\"attention_mask\"].flatten(),\"labels\":torch.tensor(label,dtype=torch.long) }\n",
    "train_dataset = NewsDataset(train_df[\"text\"].tolist(), train_df[\"label\"].tolist(), tokenizer)\n",
    "test_dataset = NewsDataset(test_df[\"text\"].tolist(), test_df[\"label\"].tolist(), tokenizer)\n",
    "\n",
    "train_loader = DataLoader(train_dataset, batch_size=16, shuffle=True)\n",
    "test_loader = DataLoader(test_dataset, batch_size=16)"
   ]
  },
  {
   "cell_type": "code",
   "execution_count": 21,
   "id": "635b15e5-c52f-4c4b-9276-1c21216d0bac",
   "metadata": {},
   "outputs": [
    {
     "name": "stdout",
     "output_type": "stream",
     "text": [
      "Using device: cpu\n"
     ]
    },
    {
     "name": "stderr",
     "output_type": "stream",
     "text": [
      "Some weights of DistilBertForSequenceClassification were not initialized from the model checkpoint at distilbert-base-uncased and are newly initialized: ['classifier.bias', 'classifier.weight', 'pre_classifier.bias', 'pre_classifier.weight']\n",
      "You should probably TRAIN this model on a down-stream task to be able to use it for predictions and inference.\n"
     ]
    }
   ],
   "source": [
    "# ✅ Step 4: Define Model\n",
    "from transformers import DistilBertTokenizer, DistilBertForSequenceClassification\n",
    "device= torch.device(\"cuda\" if torch.cuda.is_available() else \"cpu\")\n",
    "print(\"Using device:\", device)\n",
    "tokenizer=DistilBertTokenizer.from_pretrained(\"distilbert-base-uncased\")\n",
    "model = DistilBertForSequenceClassification.from_pretrained(\"distilbert-base-uncased\",num_labels=4).to(device)\n",
    "optimizer = AdamW(model.parameters(),lr=2e-5)\n",
    "loss_fn = nn.CrossEntropyLoss()"
   ]
  },
  {
   "cell_type": "code",
   "execution_count": 22,
   "id": "23ecab3b-ebe5-4ff7-b1ab-2116322b5a74",
   "metadata": {},
   "outputs": [
    {
     "name": "stdout",
     "output_type": "stream",
     "text": [
      "Epoch 1, Loss: 0.5521\n",
      "Epoch 2, Loss: 0.2409\n"
     ]
    }
   ],
   "source": [
    "# ✅ Step 5: Training Loop (2 epochs)\n",
    "for epoch in range(2):\n",
    "    model.train()\n",
    "    total_loss = 0\n",
    "\n",
    "    for batch in train_loader:\n",
    "        optimizer.zero_grad()\n",
    "        input_ids = batch[\"input_ids\"].to(device)\n",
    "        attention_mask = batch[\"attention_mask\"].to(device)\n",
    "        labels = batch[\"labels\"].to(device)\n",
    "\n",
    "        outputs = model(input_ids=input_ids, attention_mask=attention_mask, labels=labels)\n",
    "        loss = outputs.loss\n",
    "        total_loss += loss.item()\n",
    "\n",
    "        loss.backward()\n",
    "        optimizer.step()\n",
    "        \n",
    "\n",
    "    print(f\"Epoch {epoch+1}, Loss: {total_loss/len(train_loader):.4f}\")"
   ]
  },
  {
   "cell_type": "code",
   "execution_count": 23,
   "id": "6e6f9a9b-2bd4-4e7b-93be-cfb8cf794aee",
   "metadata": {},
   "outputs": [
    {
     "name": "stdout",
     "output_type": "stream",
     "text": [
      "✅ Accuracy: 88.70%\n"
     ]
    }
   ],
   "source": [
    "# ✅ Step 6: Evaluation\n",
    "model.eval()\n",
    "preds, true_labels = [], []\n",
    "\n",
    "with torch.no_grad():\n",
    "    for batch in test_loader:\n",
    "        input_ids = batch[\"input_ids\"].to(device)\n",
    "        attention_mask = batch[\"attention_mask\"].to(device)\n",
    "        labels = batch[\"labels\"].to(device)\n",
    "\n",
    "        outputs = model(input_ids=input_ids, attention_mask=attention_mask)\n",
    "        preds.extend(torch.argmax(outputs.logits, dim=1).cpu().numpy())\n",
    "        true_labels.extend(labels.cpu().numpy())\n",
    "acc = accuracy_score(true_labels, preds)\n",
    "print(f\"✅ Accuracy: {acc*100:.2f}%\")"
   ]
  },
  {
   "cell_type": "code",
   "execution_count": 25,
   "id": "f6d37637-cf2a-4f7c-a966-4ab6d93140ba",
   "metadata": {},
   "outputs": [
    {
     "name": "stdout",
     "output_type": "stream",
     "text": [
      "✅ Model Saved!\n"
     ]
    }
   ],
   "source": [
    "# ✅ Step 7: Save Model\n",
    "model.save_pretrained(\"./news_model\")\n",
    "tokenizer.save_pretrained(\"./news_model\")\n",
    "print(\"✅ Model Saved!\")"
   ]
  },
  {
   "cell_type": "code",
   "execution_count": 27,
   "id": "5cd8830e-9a95-45ef-b08b-26369c984762",
   "metadata": {},
   "outputs": [],
   "source": [
    "import os"
   ]
  },
  {
   "cell_type": "code",
   "execution_count": 29,
   "id": "ab892bf6-436c-4210-b3cb-ca0da37b6142",
   "metadata": {},
   "outputs": [
    {
     "name": "stdout",
     "output_type": "stream",
     "text": [
      "['config.json', 'model.safetensors', 'special_tokens_map.json', 'tokenizer_config.json', 'vocab.txt']\n"
     ]
    }
   ],
   "source": [
    "print(os.listdir(\"news_model\"))"
   ]
  },
  {
   "cell_type": "code",
   "execution_count": 33,
   "id": "1f54b795-dad7-4860-b492-63796f2e4c39",
   "metadata": {},
   "outputs": [],
   "source": [
    "health_news = df[df[\"CATEGORY\"] == \"m\"]"
   ]
  },
  {
   "cell_type": "code",
   "execution_count": 37,
   "id": "82cb7a2b-00b8-4ea7-9655-ab3e00f47349",
   "metadata": {},
   "outputs": [
    {
     "name": "stdout",
     "output_type": "stream",
     "text": [
      "4207      Grown-ups: Put down the smartphones at mealtime\n",
      "4208    Cellphone addiction may damage parent-child bo...\n",
      "4209    Parents won't stop using smartphones even whil...\n",
      "4210         Smartphones making parents ignore their kids\n",
      "4211    Smartphones can loosen emotional bonding with ...\n",
      "4212    Parents Distracted By Smartphones Ignore Their...\n",
      "4213    Smartphones may threaten parent-child emotiona...\n",
      "4214      Cell phone addiction may kill parent-child bond\n",
      "4215    Parents often glued to cellphone while kids ea...\n",
      "4216      Mobile Phones Affecting Parenting Skills: Study\n",
      "4217        When smartphone is near, parenting may falter\n",
      "4218         Study: Parents Using Smartphones Ignore Kids\n",
      "4219      Mommies, get your noses out of your smartphones\n",
      "4220    Smartphones: The cause of ignorance between pa...\n",
      "4221    Parents absorbed in smartphones scold kids mor...\n",
      "4222    Parents pay attention to their phones more tha...\n",
      "4223    Are Our Mobile Devices Effecting The Relations...\n",
      "4224    Parents on smartphones ignore their kids, stud...\n",
      "4225         Cell Phones Are Distracting Too Many Parents\n",
      "4226         Study: Smartphones are making us bad parents\n",
      "4227    Cell Phone Addiction: Parents Glued To Smartph...\n",
      "4228    Study: Mealtime conversations important for ch...\n",
      "4229            Parents' \"screentime\" can affect children\n",
      "4230    Parents Pay More Attention To Phones Than Kids...\n",
      "4231    Some parents pay more attention to smartphones...\n",
      "4232    Grownups Put down the smartphones at mealtime ...\n",
      "4233    Study: Smartphone Obsession Leading To More Ex...\n",
      "4234          Caregivers often pick up phones at mealtime\n",
      "4235    Parents Love Their Phones, Tablets Even During...\n",
      "4236    Smartphones are causing distracted parenting, ...\n",
      "4237    New study says parents distracted by mobile de...\n",
      "4238    Kids not the only ones guilty of too much scre...\n",
      "4239    Caregivers Pay More Attention To Mobile Device...\n",
      "4240    Parents warned phone addiction could damage bo...\n",
      "4241           Grown-ups: Put down the phones at mealtime\n",
      "4242    Study Looks At Smartphone Effect On Children, ...\n",
      "4243    Study: Parenting falters when smartphones are ...\n",
      "4244    New study suggests parents on smartphones are ...\n",
      "4245      Mobile devices distracting parents during meals\n",
      "4246    Put down that phone! Caregivers pay more atten...\n",
      "4247    Smartphone Distraction Affecting Parent/Child ...\n",
      "4248                  Mobile Devices Distracting Parents?\n",
      "4249    Smartphone Use Detrimental to Good Parenting; ...\n",
      "4250        Why Your Smartphone May Make You a Bad Parent\n",
      "4251                              Parents and Cell Phones\n",
      "4252    New research shows kids are not the only devic...\n",
      "4253    Mommy Monday: When Smartphone Is Near, Parenti...\n",
      "4254              Smart Phones and Not So Smart Parenting\n",
      "4255    Parents' Smartphones Interrupt Healthy Family ...\n",
      "4256              Cell Phones a Distraction to Parenting?\n",
      "Name: TITLE, dtype: object\n"
     ]
    }
   ],
   "source": [
    "print(health_news[\"TITLE\"].head(50))"
   ]
  },
  {
   "cell_type": "code",
   "execution_count": null,
   "id": "9d72ad8e-e059-437d-84d6-9264b9599685",
   "metadata": {},
   "outputs": [],
   "source": []
  }
 ],
 "metadata": {
  "kernelspec": {
   "display_name": "Python 3 (ipykernel)",
   "language": "python",
   "name": "python3"
  },
  "language_info": {
   "codemirror_mode": {
    "name": "ipython",
    "version": 3
   },
   "file_extension": ".py",
   "mimetype": "text/x-python",
   "name": "python",
   "nbconvert_exporter": "python",
   "pygments_lexer": "ipython3",
   "version": "3.13.5"
  }
 },
 "nbformat": 4,
 "nbformat_minor": 5
}
